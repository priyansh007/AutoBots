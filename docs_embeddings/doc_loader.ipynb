{
 "cells": [
  {
   "cell_type": "code",
   "execution_count": 1,
   "metadata": {},
   "outputs": [],
   "source": [
    "import os\n",
    "from langchain.embeddings.openai import OpenAIEmbeddings\n",
    "from langchain.vectorstores import Chroma\n",
    "from langchain.text_splitter import CharacterTextSplitter\n",
    "from langchain.chains import ConversationalRetrievalChain\n",
    "from langchain.chat_models import ChatOpenAI\n",
    "from langchain.document_loaders import PyPDFLoader\n",
    "from langchain.document_loaders import DirectoryLoader"
   ]
  },
  {
   "cell_type": "code",
   "execution_count": 2,
   "metadata": {},
   "outputs": [],
   "source": [
    "def doc_load(f_p):\n",
    "    pdf_loader = DirectoryLoader(f_p, glob=\"**\\\\*.pdf\")\n",
    "    excel_loader = DirectoryLoader(f_p, glob=\"**\\\\*.txt\")\n",
    "    word_loader = DirectoryLoader(f_p, glob=\"**\\\\*.docx\")\n",
    "    loaders = [pdf_loader, excel_loader, word_loader]\n",
    "    documents = []\n",
    "    for loader in loaders:\n",
    "        documents.extend(loader.load())\n",
    "    text_splitter = CharacterTextSplitter(chunk_size=1500, chunk_overlap=0)\n",
    "    documents = text_splitter.split_documents(documents)\n",
    "    return documents\n",
    "\n",
    "## After this point embeddings function can be inserted"
   ]
  },
  {
   "cell_type": "code",
   "execution_count": 5,
   "metadata": {},
   "outputs": [
    {
     "name": "stdout",
     "output_type": "stream",
     "text": [
      "page_content='TXT test file Purpose: Provide example of this file type Document file type: TXT Version: 1.0 Remark:\\n\\nExample content: The names \"John Doe\" for males, \"Jane Doe\" or \"Jane Roe\" for females, or \"Jonnie Doe\" and \"Janie Doe\" for children, or just \"Doe\" non-gender-specifically are used as placeholder names for a party whose true identity is unknown or must be withheld in a legal action, case, or discussion. The names are also used to refer to acorpse or hospital patient whose identity is unknown. This practice is widely used in the United States and Canada, but is rarely used in other English-speaking countries including the United Kingdom itself, from where the use of \"John Doe\" in a legal context originates. The names Joe Bloggs or John Smith are used in the UK instead, as well as in Australia and New Zealand.' metadata={'source': 'C:\\\\Users\\\\Client\\\\Box\\\\ai_c\\\\qa_project\\\\sample\\\\test.txt'}\n",
      "page_content='John Doe is sometimes used to refer to a typical male in other contexts as well, in a similar manner to John Q. Public, known in Great Britain as Joe Public, John Smith or Joe Bloggs. For example, the first name listed on a form is often John Doe, along with a fictional address or other fictional information to provide an example of how to fill in the form. The name is also used frequently in popular culture, for example in the Frank Capra film Meet John Doe. John Doe was also the name of a 2002 American television series.' metadata={'source': 'C:\\\\Users\\\\Client\\\\Box\\\\ai_c\\\\qa_project\\\\sample\\\\test.txt'}\n",
      "page_content='Similarly, a child or baby whose identity is unknown may be referred to as Baby Doe. A notorious murder case in Kansas City, Missouri, referred to the baby victim as Precious Doe. Other unidentified female murder victims are Cali Doe and Princess Doe. Additional persons may be called James Doe, Judy Doe, etc. However, to avoid possible confusion, if two anonymous or unknown parties are cited in a specific case or action, the surnames Doe and Roe may be used simultaneously; for example, \"John Doe v. Jane Roe\". If several anonymous parties are referenced, they may simply be labelled John Doe #1, John Doe #2, etc. (the U.S. Operation Delego cited 21 (numbered) \"John Doe\"s) or labelled with other variants of Doe / Roe / Poe / etc. Other early alternatives such as John Stiles and Richard Miles are now rarely used, and Mary Major has been used in some American federal cases.' metadata={'source': 'C:\\\\Users\\\\Client\\\\Box\\\\ai_c\\\\qa_project\\\\sample\\\\test.txt'}\n",
      "page_content='File created by https://www.online-convert.com More example files: https://www.online-convert.com/file-type Text of Example content: Wikipedia (https://en.wikipedia.org/wiki/John_Doe) License: Attribution-ShareAlike 4.0 (https://creativecommons.org/licenses/by-sa/4.0/)\\n\\nFeel free to use and share the file according to the license above.' metadata={'source': 'C:\\\\Users\\\\Client\\\\Box\\\\ai_c\\\\qa_project\\\\sample\\\\test.txt'}\n"
     ]
    }
   ],
   "source": [
    "## Please set this to your file directory\n",
    "file_path = '.\\\\C:\\\\Users\\\\Client\\\\Box\\\\ai_c\\\\qa_project\\\\sample\\\\'\n",
    "sample = doc_load(file_path)\n",
    "for i in sample:\n",
    "    print(i)"
   ]
  },
  {
   "cell_type": "code",
   "execution_count": 6,
   "metadata": {},
   "outputs": [
    {
     "data": {
      "text/plain": [
       "'TXT test file Purpose: Provide example of this file type Document file type: TXT Version: 1.0 Remark:\\n\\nExample content: The names \"John Doe\" for males, \"Jane Doe\" or \"Jane Roe\" for females, or \"Jonnie Doe\" and \"Janie Doe\" for children, or just \"Doe\" non-gender-specifically are used as placeholder names for a party whose true identity is unknown or must be withheld in a legal action, case, or discussion. The names are also used to refer to acorpse or hospital patient whose identity is unknown. This practice is widely used in the United States and Canada, but is rarely used in other English-speaking countries including the United Kingdom itself, from where the use of \"John Doe\" in a legal context originates. The names Joe Bloggs or John Smith are used in the UK instead, as well as in Australia and New Zealand.'"
      ]
     },
     "execution_count": 6,
     "metadata": {},
     "output_type": "execute_result"
    }
   ],
   "source": [
    "sample[0].page_content"
   ]
  }
 ],
 "metadata": {
  "kernelspec": {
   "display_name": "Python 3",
   "language": "python",
   "name": "python3"
  },
  "language_info": {
   "codemirror_mode": {
    "name": "ipython",
    "version": 3
   },
   "file_extension": ".py",
   "mimetype": "text/x-python",
   "name": "python",
   "nbconvert_exporter": "python",
   "pygments_lexer": "ipython3",
   "version": "3.10.2"
  },
  "orig_nbformat": 4
 },
 "nbformat": 4,
 "nbformat_minor": 2
}
