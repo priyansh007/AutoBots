{
  "cells": [
    {
      "cell_type": "code",
      "execution_count": 60,
      "metadata": {
        "colab": {
          "base_uri": "https://localhost:8080/"
        },
        "id": "VZT3kEgaxK4O",
        "outputId": "3e22b82c-854c-4689-f66e-83fa365c8200"
      },
      "outputs": [
        {
          "name": "stdout",
          "output_type": "stream",
          "text": [
            "\u001b[?25l     \u001b[90m━━━━━━━━━━━━━━━━━━━━━━━━━━━━━━━━━━━━━━━━\u001b[0m \u001b[32m0.0/1.7 MB\u001b[0m \u001b[31m?\u001b[0m eta \u001b[36m-:--:--\u001b[0m\r\u001b[2K     \u001b[91m━━━━━\u001b[0m\u001b[91m╸\u001b[0m\u001b[90m━━━━━━━━━━━━━━━━━━━━━━━━━━━━━━━━━━\u001b[0m \u001b[32m0.2/1.7 MB\u001b[0m \u001b[31m7.9 MB/s\u001b[0m eta \u001b[36m0:00:01\u001b[0m\r\u001b[2K     \u001b[91m━━━━━━━━━━━━━━━━━━━━━━━━━━━━━━━━━━━━━━━\u001b[0m\u001b[91m╸\u001b[0m \u001b[32m1.7/1.7 MB\u001b[0m \u001b[31m27.4 MB/s\u001b[0m eta \u001b[36m0:00:01\u001b[0m\r\u001b[2K     \u001b[90m━━━━━━━━━━━━━━━━━━━━━━━━━━━━━━━━━━━━━━━━\u001b[0m \u001b[32m1.7/1.7 MB\u001b[0m \u001b[31m22.7 MB/s\u001b[0m eta \u001b[36m0:00:00\u001b[0m\n",
            "\u001b[?25h"
          ]
        }
      ],
      "source": [
        "!pip install -qU langchain openai unstructured chromadb tiktoken"
      ]
    },
    {
      "cell_type": "code",
      "execution_count": 2,
      "metadata": {
        "id": "g6gai1w9yIH-"
      },
      "outputs": [],
      "source": [
        "from langchain.document_loaders import DirectoryLoader, TextLoader\n",
        "from langchain.text_splitter import CharacterTextSplitter\n",
        "from langchain.embeddings import OpenAIEmbeddings\n",
        "from langchain.vectorstores import Chroma\n",
        "from langchain.chains import RetrievalQA\n",
        "from langchain import OpenAI\n",
        "import os"
      ]
    },
    {
      "cell_type": "code",
      "execution_count": 3,
      "metadata": {
        "id": "gZJwG193ym8L"
      },
      "outputs": [],
      "source": [
        "folder_path = \"input\"\n",
        "if not os.path.exists(folder_path):\n",
        "    os.makedirs(folder_path)\n",
        "# Upload txt files in input folder"
      ]
    },
    {
      "cell_type": "code",
      "execution_count": 4,
      "metadata": {
        "id": "dYgeN6K7xjoB"
      },
      "outputs": [],
      "source": [
        "API_KEY=\"\"\n",
        "embeddings = OpenAIEmbeddings(openai_api_key=API_KEY)"
      ]
    },
    {
      "cell_type": "code",
      "execution_count": 58,
      "metadata": {
        "colab": {
          "base_uri": "https://localhost:8080/"
        },
        "id": "uycLY_bmyRUn",
        "outputId": "969460b3-16cb-445e-c50d-1cb8b478cfc3"
      },
      "outputs": [
        {
          "data": {
            "text/plain": [
              "76"
            ]
          },
          "execution_count": 58,
          "metadata": {},
          "output_type": "execute_result"
        }
      ],
      "source": [
        "loader = DirectoryLoader('input', glob=\"**/*.txt\")\n",
        "\n",
        "# Load the documents from the directory\n",
        "documents = loader.load()\n",
        "text_splitter = CharacterTextSplitter(separator = \" \", chunk_size=200, chunk_overlap=0)\n",
        "texts = text_splitter.split_documents(documents)\n",
        "len(texts)"
      ]
    },
    {
      "cell_type": "code",
      "execution_count": 62,
      "metadata": {
        "colab": {
          "base_uri": "https://localhost:8080/"
        },
        "id": "KTWpwlgmyX83",
        "outputId": "5953741d-8c74-4cd8-ec22-31dce8f4b58e"
      },
      "outputs": [
        {
          "name": "stdout",
          "output_type": "stream",
          "text": [
            "Query:  What is summary of all articles\n",
            "Answer:   The Office of Inspector General released a report raising concerns about possible damage to the quality of the once-a-decade head count that determines congressional representation and federal funding. The report cited only a small number of cases out of the overall workload, and concluded that data quality may have been damaged. In response, the Census Bureau said it appreciated the concerns that were raised but disagreed with the conclusions. The Inspector General recommends passage of legislation that would require schools to provide needed information in future head counts, though the fiscal implications presented were not seen as a conclusive assessment of overall census quality.\n"
          ]
        }
      ],
      "source": [
        "docsearch = Chroma.from_documents(texts, embeddings)\n",
        "qa = RetrievalQA.from_chain_type(\n",
        "    llm=OpenAI(openai_api_key=API_KEY),\n",
        "    chain_type=\"stuff\",\n",
        "    retriever=docsearch.as_retriever()\n",
        ")\n",
        "\n",
        "def query(q):\n",
        "    print(\"Query: \", q)\n",
        "    print(\"Answer: \", qa.run(q))\n",
        "\n",
        "query(\"What is summary of all articles\")"
      ]
    }
  ],
  "metadata": {
    "accelerator": "GPU",
    "colab": {
      "gpuType": "T4",
      "provenance": []
    },
    "kernelspec": {
      "display_name": "Python 3",
      "name": "python3"
    },
    "language_info": {
      "name": "python"
    }
  },
  "nbformat": 4,
  "nbformat_minor": 0
}
